{
  "nbformat": 4,
  "nbformat_minor": 0,
  "metadata": {
    "colab": {
      "provenance": []
    },
    "kernelspec": {
      "name": "python3",
      "display_name": "Python 3"
    },
    "language_info": {
      "name": "python"
    }
  },
  "cells": [
    {
      "cell_type": "markdown",
      "source": [
        "#Importing libaries and Data Loading and Preprocessing."
      ],
      "metadata": {
        "id": "mtBXA19MHeeo"
      }
    },
    {
      "cell_type": "markdown",
      "source": [
        "**Importing Libraries**"
      ],
      "metadata": {
        "id": "e80nIiSwhEVG"
      }
    },
    {
      "cell_type": "code",
      "source": [
        "import numpy as np\n",
        "import seaborn as sns\n",
        "import matplotlib.pyplot as plt\n",
        "%matplotlib inline\n",
        "import tensorflow as tf\n",
        "from tensorflow.keras import layers, models, regularizers\n",
        "from sklearn.metrics import classification_report, confusion_matrix, precision_recall_fscore_support\n",
        "from sklearn.ensemble import RandomForestClassifier\n",
        "import xgboost as xgb\n",
        "from tensorflow.keras.models import Sequential\n",
        "from tensorflow.keras.layers import Dense, Dropout, BatchNormalization, LeakyReLU\n",
        "from tensorflow.keras.callbacks import EarlyStopping, ReduceLROnPlateau\n",
        "from tensorflow.keras.utils import to_categorical\n",
        "from sklearn.datasets import fetch_covtype\n",
        "from sklearn.model_selection import train_test_split\n",
        "from sklearn.preprocessing import StandardScaler, OneHotEncoder\n",
        "from sklearn.compose import ColumnTransformer\n",
        "from sklearn.pipeline import Pipeline"
      ],
      "metadata": {
        "id": "6_lbsjPtvupH"
      },
      "execution_count": 2,
      "outputs": []
    },
    {
      "cell_type": "markdown",
      "source": [
        "**Loading  the dataset**"
      ],
      "metadata": {
        "id": "1U9G57h3hYQK"
      }
    },
    {
      "cell_type": "code",
      "source": [
        "covtype = fetch_covtype()\n",
        "X, y = covtype.data, covtype.target"
      ],
      "metadata": {
        "id": "ZOOpl1MVhZpV"
      },
      "execution_count": 3,
      "outputs": []
    },
    {
      "cell_type": "markdown",
      "source": [
        "**The cover type labels are 1-based, convert to 0-based for consistent indexing with neural network output**"
      ],
      "metadata": {
        "id": "uVnYoIN0hq71"
      }
    },
    {
      "cell_type": "code",
      "source": [
        "y = y - 1"
      ],
      "metadata": {
        "id": "Trhif6H_h7m9"
      },
      "execution_count": 4,
      "outputs": []
    },
    {
      "cell_type": "markdown",
      "source": [
        "**Split data**"
      ],
      "metadata": {
        "id": "qbybsamciFLI"
      }
    },
    {
      "cell_type": "code",
      "source": [
        "x_train, x_test, y_train, y_test = train_test_split(X, y, test_size=0.2, random_state=42, stratify=y)"
      ],
      "metadata": {
        "id": "XMYXgN1EiNmf"
      },
      "execution_count": 5,
      "outputs": []
    },
    {
      "cell_type": "markdown",
      "source": [
        "**Indices 0-9**"
      ],
      "metadata": {
        "id": "3K67vlkyiuIh"
      }
    },
    {
      "cell_type": "code",
      "source": [
        "numerical_features = slice(0, 10)"
      ],
      "metadata": {
        "id": "vzv0IEwAipnv"
      },
      "execution_count": 6,
      "outputs": []
    },
    {
      "cell_type": "markdown",
      "source": [
        "**Indices 10-53**"
      ],
      "metadata": {
        "id": "P55r9Cu1i1NH"
      }
    },
    {
      "cell_type": "code",
      "source": [
        "categorical_features = slice(10, 54)"
      ],
      "metadata": {
        "id": "opz5vXTKjLIN"
      },
      "execution_count": 7,
      "outputs": []
    },
    {
      "cell_type": "markdown",
      "source": [
        "**Normalize**"
      ],
      "metadata": {
        "id": "Y7qSzSqvIXGX"
      }
    },
    {
      "cell_type": "code",
      "source": [
        "scaler = StandardScaler()\n",
        "x_train = scaler.fit_transform(x_train)\n",
        "x_test = scaler.transform(x_test)"
      ],
      "metadata": {
        "id": "IEiWZVKzIao5"
      },
      "execution_count": 8,
      "outputs": []
    },
    {
      "cell_type": "markdown",
      "source": [
        "**Create preprocessor to scale numerical and one-hot encode categorical features**"
      ],
      "metadata": {
        "id": "vYJXqVGLiqRp"
      }
    },
    {
      "cell_type": "code",
      "source": [
        "preprocessor = ColumnTransformer(\n",
        "    transformers=[\n",
        "        ('num', StandardScaler(), numerical_features),\n",
        "        ('cat', OneHotEncoder(handle_unknown='ignore'), categorical_features)\n",
        "    ])"
      ],
      "metadata": {
        "id": "obyLN_unjh0Z"
      },
      "execution_count": 9,
      "outputs": []
    },
    {
      "cell_type": "markdown",
      "source": [
        "**Preprocessing**"
      ],
      "metadata": {
        "id": "Pavr9xowjoaW"
      }
    },
    {
      "cell_type": "code",
      "source": [
        "x_train_processed = preprocessor.fit_transform(x_train)\n",
        "x_test_processed = preprocessor.transform(x_test)"
      ],
      "metadata": {
        "id": "v56jf-1oj0cv"
      },
      "execution_count": 10,
      "outputs": []
    },
    {
      "cell_type": "markdown",
      "source": [
        "**Number of features after preprocessing**"
      ],
      "metadata": {
        "id": "eMUEDfrdj7HQ"
      }
    },
    {
      "cell_type": "code",
      "source": [
        "input_size = x_train_processed.shape[1]\n",
        "num_classes = len(np.unique(y_train))"
      ],
      "metadata": {
        "id": "mEl63Uq5kJfC"
      },
      "execution_count": 11,
      "outputs": []
    },
    {
      "cell_type": "code",
      "source": [
        "print(f\"Number of features after preprocessing: {input_size}\")\n",
        "print(f\"Number of classes: {num_classes}\")"
      ],
      "metadata": {
        "colab": {
          "base_uri": "https://localhost:8080/"
        },
        "id": "gYm22OrbkSOu",
        "outputId": "52be9729-947f-4ac6-b780-4eeccfd6dddd"
      },
      "execution_count": 12,
      "outputs": [
        {
          "output_type": "stream",
          "name": "stdout",
          "text": [
            "Number of features after preprocessing: 98\n",
            "Number of classes: 7\n"
          ]
        }
      ]
    },
    {
      "cell_type": "markdown",
      "source": [
        "**Now labels to categorical (one-hot encoding) for the MLP**"
      ],
      "metadata": {
        "id": "qI1dHCS8kama"
      }
    },
    {
      "cell_type": "code",
      "source": [
        "y_train_cat = to_categorical(y_train, num_classes=num_classes)\n",
        "y_test_cat = to_categorical(y_test, num_classes=num_classes)"
      ],
      "metadata": {
        "id": "67mpNdRjkd3Q"
      },
      "execution_count": 13,
      "outputs": []
    },
    {
      "cell_type": "markdown",
      "source": [
        "**Display some example labels**"
      ],
      "metadata": {
        "id": "LLpWBCTZlB0S"
      }
    },
    {
      "cell_type": "code",
      "source": [
        "print(\"Example training labels:\", y_train[1:10])"
      ],
      "metadata": {
        "colab": {
          "base_uri": "https://localhost:8080/"
        },
        "id": "Lticp4oxk-rM",
        "outputId": "76a00c2a-fc08-488a-b0b2-b295b59dcd41"
      },
      "execution_count": 14,
      "outputs": [
        {
          "output_type": "stream",
          "name": "stdout",
          "text": [
            "Example training labels: [1 6 0 4 0 1 1 1 1]\n"
          ]
        }
      ]
    },
    {
      "cell_type": "markdown",
      "source": [
        "**Display class distribution**"
      ],
      "metadata": {
        "id": "ZTGRUhGWlP4z"
      }
    },
    {
      "cell_type": "code",
      "source": [
        "print(\"Training data class distribution:\", np.unique(y_train, return_counts=True))"
      ],
      "metadata": {
        "colab": {
          "base_uri": "https://localhost:8080/"
        },
        "id": "OPUZwHgKlTZH",
        "outputId": "602c4023-5e00-450c-f9e5-8829f9d93ea0"
      },
      "execution_count": 15,
      "outputs": [
        {
          "output_type": "stream",
          "name": "stdout",
          "text": [
            "Training data class distribution: (array([0, 1, 2, 3, 4, 5, 6], dtype=int32), array([169472, 226640,  28603,   2198,   7594,  13894,  16408]))\n"
          ]
        }
      ]
    },
    {
      "cell_type": "markdown",
      "source": [
        "The input size is already determined after preprocessing"
      ],
      "metadata": {
        "id": "pxxgddl6lgrJ"
      }
    },
    {
      "cell_type": "code",
      "source": [
        "print(f\"Input size after preprocessing: {input_size}\")"
      ],
      "metadata": {
        "colab": {
          "base_uri": "https://localhost:8080/"
        },
        "id": "Qm2nuhhIlpY6",
        "outputId": "8b0e4010-1c91-4ffb-fd1c-68d73e2d5da1"
      },
      "execution_count": 16,
      "outputs": [
        {
          "output_type": "stream",
          "name": "stdout",
          "text": [
            "Input size after preprocessing: 98\n"
          ]
        }
      ]
    },
    {
      "cell_type": "code",
      "source": [
        "def build_deeper_wider_model(input_size, num_classes):\n",
        "    model = models.Sequential([\n",
        "        layers.Input(shape=(input_size,)),\n",
        "        layers.Dense(256, activation='relu'),\n",
        "        layers.BatchNormalization(),          # Added Batch Normalization\n",
        "        layers.Dense(256, activation='relu'),\n",
        "        layers.BatchNormalization(),\n",
        "        layers.Dense(128, activation='relu'),\n",
        "        layers.BatchNormalization(),\n",
        "        layers.Dense(num_classes, activation='softmax')\n",
        "    ])\n",
        "    return model\n",
        "\n",
        "deeper_wider_model = build_deeper_wider_model(input_size, num_classes)\n",
        "deeper_wider_model.compile(optimizer='adam',\n",
        "                           loss='categorical_crossentropy',\n",
        "                           metrics=['accuracy'])\n",
        "deeper_wider_model.summary()"
      ],
      "metadata": {
        "colab": {
          "base_uri": "https://localhost:8080/",
          "height": 401
        },
        "id": "-tk0ouaFl4Qa",
        "outputId": "143e7174-2b1c-42d5-90f4-1f6a59946168"
      },
      "execution_count": 17,
      "outputs": [
        {
          "output_type": "display_data",
          "data": {
            "text/plain": [
              "\u001b[1mModel: \"sequential\"\u001b[0m\n"
            ],
            "text/html": [
              "<pre style=\"white-space:pre;overflow-x:auto;line-height:normal;font-family:Menlo,'DejaVu Sans Mono',consolas,'Courier New',monospace\"><span style=\"font-weight: bold\">Model: \"sequential\"</span>\n",
              "</pre>\n"
            ]
          },
          "metadata": {}
        },
        {
          "output_type": "display_data",
          "data": {
            "text/plain": [
              "┏━━━━━━━━━━━━━━━━━━━━━━━━━━━━━━━━━┳━━━━━━━━━━━━━━━━━━━━━━━━┳━━━━━━━━━━━━━━━┓\n",
              "┃\u001b[1m \u001b[0m\u001b[1mLayer (type)                   \u001b[0m\u001b[1m \u001b[0m┃\u001b[1m \u001b[0m\u001b[1mOutput Shape          \u001b[0m\u001b[1m \u001b[0m┃\u001b[1m \u001b[0m\u001b[1m      Param #\u001b[0m\u001b[1m \u001b[0m┃\n",
              "┡━━━━━━━━━━━━━━━━━━━━━━━━━━━━━━━━━╇━━━━━━━━━━━━━━━━━━━━━━━━╇━━━━━━━━━━━━━━━┩\n",
              "│ dense (\u001b[38;5;33mDense\u001b[0m)                   │ (\u001b[38;5;45mNone\u001b[0m, \u001b[38;5;34m256\u001b[0m)            │        \u001b[38;5;34m25,344\u001b[0m │\n",
              "├─────────────────────────────────┼────────────────────────┼───────────────┤\n",
              "│ batch_normalization             │ (\u001b[38;5;45mNone\u001b[0m, \u001b[38;5;34m256\u001b[0m)            │         \u001b[38;5;34m1,024\u001b[0m │\n",
              "│ (\u001b[38;5;33mBatchNormalization\u001b[0m)            │                        │               │\n",
              "├─────────────────────────────────┼────────────────────────┼───────────────┤\n",
              "│ dense_1 (\u001b[38;5;33mDense\u001b[0m)                 │ (\u001b[38;5;45mNone\u001b[0m, \u001b[38;5;34m256\u001b[0m)            │        \u001b[38;5;34m65,792\u001b[0m │\n",
              "├─────────────────────────────────┼────────────────────────┼───────────────┤\n",
              "│ batch_normalization_1           │ (\u001b[38;5;45mNone\u001b[0m, \u001b[38;5;34m256\u001b[0m)            │         \u001b[38;5;34m1,024\u001b[0m │\n",
              "│ (\u001b[38;5;33mBatchNormalization\u001b[0m)            │                        │               │\n",
              "├─────────────────────────────────┼────────────────────────┼───────────────┤\n",
              "│ dense_2 (\u001b[38;5;33mDense\u001b[0m)                 │ (\u001b[38;5;45mNone\u001b[0m, \u001b[38;5;34m128\u001b[0m)            │        \u001b[38;5;34m32,896\u001b[0m │\n",
              "├─────────────────────────────────┼────────────────────────┼───────────────┤\n",
              "│ batch_normalization_2           │ (\u001b[38;5;45mNone\u001b[0m, \u001b[38;5;34m128\u001b[0m)            │           \u001b[38;5;34m512\u001b[0m │\n",
              "│ (\u001b[38;5;33mBatchNormalization\u001b[0m)            │                        │               │\n",
              "├─────────────────────────────────┼────────────────────────┼───────────────┤\n",
              "│ dense_3 (\u001b[38;5;33mDense\u001b[0m)                 │ (\u001b[38;5;45mNone\u001b[0m, \u001b[38;5;34m7\u001b[0m)              │           \u001b[38;5;34m903\u001b[0m │\n",
              "└─────────────────────────────────┴────────────────────────┴───────────────┘\n"
            ],
            "text/html": [
              "<pre style=\"white-space:pre;overflow-x:auto;line-height:normal;font-family:Menlo,'DejaVu Sans Mono',consolas,'Courier New',monospace\">┏━━━━━━━━━━━━━━━━━━━━━━━━━━━━━━━━━┳━━━━━━━━━━━━━━━━━━━━━━━━┳━━━━━━━━━━━━━━━┓\n",
              "┃<span style=\"font-weight: bold\"> Layer (type)                    </span>┃<span style=\"font-weight: bold\"> Output Shape           </span>┃<span style=\"font-weight: bold\">       Param # </span>┃\n",
              "┡━━━━━━━━━━━━━━━━━━━━━━━━━━━━━━━━━╇━━━━━━━━━━━━━━━━━━━━━━━━╇━━━━━━━━━━━━━━━┩\n",
              "│ dense (<span style=\"color: #0087ff; text-decoration-color: #0087ff\">Dense</span>)                   │ (<span style=\"color: #00d7ff; text-decoration-color: #00d7ff\">None</span>, <span style=\"color: #00af00; text-decoration-color: #00af00\">256</span>)            │        <span style=\"color: #00af00; text-decoration-color: #00af00\">25,344</span> │\n",
              "├─────────────────────────────────┼────────────────────────┼───────────────┤\n",
              "│ batch_normalization             │ (<span style=\"color: #00d7ff; text-decoration-color: #00d7ff\">None</span>, <span style=\"color: #00af00; text-decoration-color: #00af00\">256</span>)            │         <span style=\"color: #00af00; text-decoration-color: #00af00\">1,024</span> │\n",
              "│ (<span style=\"color: #0087ff; text-decoration-color: #0087ff\">BatchNormalization</span>)            │                        │               │\n",
              "├─────────────────────────────────┼────────────────────────┼───────────────┤\n",
              "│ dense_1 (<span style=\"color: #0087ff; text-decoration-color: #0087ff\">Dense</span>)                 │ (<span style=\"color: #00d7ff; text-decoration-color: #00d7ff\">None</span>, <span style=\"color: #00af00; text-decoration-color: #00af00\">256</span>)            │        <span style=\"color: #00af00; text-decoration-color: #00af00\">65,792</span> │\n",
              "├─────────────────────────────────┼────────────────────────┼───────────────┤\n",
              "│ batch_normalization_1           │ (<span style=\"color: #00d7ff; text-decoration-color: #00d7ff\">None</span>, <span style=\"color: #00af00; text-decoration-color: #00af00\">256</span>)            │         <span style=\"color: #00af00; text-decoration-color: #00af00\">1,024</span> │\n",
              "│ (<span style=\"color: #0087ff; text-decoration-color: #0087ff\">BatchNormalization</span>)            │                        │               │\n",
              "├─────────────────────────────────┼────────────────────────┼───────────────┤\n",
              "│ dense_2 (<span style=\"color: #0087ff; text-decoration-color: #0087ff\">Dense</span>)                 │ (<span style=\"color: #00d7ff; text-decoration-color: #00d7ff\">None</span>, <span style=\"color: #00af00; text-decoration-color: #00af00\">128</span>)            │        <span style=\"color: #00af00; text-decoration-color: #00af00\">32,896</span> │\n",
              "├─────────────────────────────────┼────────────────────────┼───────────────┤\n",
              "│ batch_normalization_2           │ (<span style=\"color: #00d7ff; text-decoration-color: #00d7ff\">None</span>, <span style=\"color: #00af00; text-decoration-color: #00af00\">128</span>)            │           <span style=\"color: #00af00; text-decoration-color: #00af00\">512</span> │\n",
              "│ (<span style=\"color: #0087ff; text-decoration-color: #0087ff\">BatchNormalization</span>)            │                        │               │\n",
              "├─────────────────────────────────┼────────────────────────┼───────────────┤\n",
              "│ dense_3 (<span style=\"color: #0087ff; text-decoration-color: #0087ff\">Dense</span>)                 │ (<span style=\"color: #00d7ff; text-decoration-color: #00d7ff\">None</span>, <span style=\"color: #00af00; text-decoration-color: #00af00\">7</span>)              │           <span style=\"color: #00af00; text-decoration-color: #00af00\">903</span> │\n",
              "└─────────────────────────────────┴────────────────────────┴───────────────┘\n",
              "</pre>\n"
            ]
          },
          "metadata": {}
        },
        {
          "output_type": "display_data",
          "data": {
            "text/plain": [
              "\u001b[1m Total params: \u001b[0m\u001b[38;5;34m127,495\u001b[0m (498.03 KB)\n"
            ],
            "text/html": [
              "<pre style=\"white-space:pre;overflow-x:auto;line-height:normal;font-family:Menlo,'DejaVu Sans Mono',consolas,'Courier New',monospace\"><span style=\"font-weight: bold\"> Total params: </span><span style=\"color: #00af00; text-decoration-color: #00af00\">127,495</span> (498.03 KB)\n",
              "</pre>\n"
            ]
          },
          "metadata": {}
        },
        {
          "output_type": "display_data",
          "data": {
            "text/plain": [
              "\u001b[1m Trainable params: \u001b[0m\u001b[38;5;34m126,215\u001b[0m (493.03 KB)\n"
            ],
            "text/html": [
              "<pre style=\"white-space:pre;overflow-x:auto;line-height:normal;font-family:Menlo,'DejaVu Sans Mono',consolas,'Courier New',monospace\"><span style=\"font-weight: bold\"> Trainable params: </span><span style=\"color: #00af00; text-decoration-color: #00af00\">126,215</span> (493.03 KB)\n",
              "</pre>\n"
            ]
          },
          "metadata": {}
        },
        {
          "output_type": "display_data",
          "data": {
            "text/plain": [
              "\u001b[1m Non-trainable params: \u001b[0m\u001b[38;5;34m1,280\u001b[0m (5.00 KB)\n"
            ],
            "text/html": [
              "<pre style=\"white-space:pre;overflow-x:auto;line-height:normal;font-family:Menlo,'DejaVu Sans Mono',consolas,'Courier New',monospace\"><span style=\"font-weight: bold\"> Non-trainable params: </span><span style=\"color: #00af00; text-decoration-color: #00af00\">1,280</span> (5.00 KB)\n",
              "</pre>\n"
            ]
          },
          "metadata": {}
        }
      ]
    },
    {
      "cell_type": "markdown",
      "source": [
        "**Experimenting with Different Activation Functions**"
      ],
      "metadata": {
        "id": "c0X0OeFlqLyU"
      }
    },
    {
      "cell_type": "code",
      "source": [
        "def build_leakyrelu_model(input_size, num_classes):\n",
        "    model = models.Sequential([\n",
        "        layers.Input(shape=(input_size,)),\n",
        "        layers.Dense(128),\n",
        "        LeakyReLU(alpha=0.01), # Using LeakyReLU\n",
        "        layers.Dense(128),\n",
        "        LeakyReLU(alpha=0.01),\n",
        "        layers.Dense(num_classes, activation='softmax')\n",
        "    ])\n",
        "    return model\n",
        "\n",
        "leakyrelu_model = build_leakyrelu_model(input_size, num_classes)\n",
        "leakyrelu_model.compile(optimizer='adam',\n",
        "                        loss='categorical_crossentropy',\n",
        "                        metrics=['accuracy'])\n",
        "leakyrelu_model.summary()"
      ],
      "metadata": {
        "colab": {
          "base_uri": "https://localhost:8080/",
          "height": 324
        },
        "id": "zuRRk1AdqOEi",
        "outputId": "4b041628-0616-4d42-e60f-fb2f6508abf7"
      },
      "execution_count": 18,
      "outputs": [
        {
          "output_type": "stream",
          "name": "stderr",
          "text": [
            "/usr/local/lib/python3.11/dist-packages/keras/src/layers/activations/leaky_relu.py:41: UserWarning: Argument `alpha` is deprecated. Use `negative_slope` instead.\n",
            "  warnings.warn(\n"
          ]
        },
        {
          "output_type": "display_data",
          "data": {
            "text/plain": [
              "\u001b[1mModel: \"sequential_1\"\u001b[0m\n"
            ],
            "text/html": [
              "<pre style=\"white-space:pre;overflow-x:auto;line-height:normal;font-family:Menlo,'DejaVu Sans Mono',consolas,'Courier New',monospace\"><span style=\"font-weight: bold\">Model: \"sequential_1\"</span>\n",
              "</pre>\n"
            ]
          },
          "metadata": {}
        },
        {
          "output_type": "display_data",
          "data": {
            "text/plain": [
              "┏━━━━━━━━━━━━━━━━━━━━━━━━━━━━━━━━━┳━━━━━━━━━━━━━━━━━━━━━━━━┳━━━━━━━━━━━━━━━┓\n",
              "┃\u001b[1m \u001b[0m\u001b[1mLayer (type)                   \u001b[0m\u001b[1m \u001b[0m┃\u001b[1m \u001b[0m\u001b[1mOutput Shape          \u001b[0m\u001b[1m \u001b[0m┃\u001b[1m \u001b[0m\u001b[1m      Param #\u001b[0m\u001b[1m \u001b[0m┃\n",
              "┡━━━━━━━━━━━━━━━━━━━━━━━━━━━━━━━━━╇━━━━━━━━━━━━━━━━━━━━━━━━╇━━━━━━━━━━━━━━━┩\n",
              "│ dense_4 (\u001b[38;5;33mDense\u001b[0m)                 │ (\u001b[38;5;45mNone\u001b[0m, \u001b[38;5;34m128\u001b[0m)            │        \u001b[38;5;34m12,672\u001b[0m │\n",
              "├─────────────────────────────────┼────────────────────────┼───────────────┤\n",
              "│ leaky_re_lu (\u001b[38;5;33mLeakyReLU\u001b[0m)         │ (\u001b[38;5;45mNone\u001b[0m, \u001b[38;5;34m128\u001b[0m)            │             \u001b[38;5;34m0\u001b[0m │\n",
              "├─────────────────────────────────┼────────────────────────┼───────────────┤\n",
              "│ dense_5 (\u001b[38;5;33mDense\u001b[0m)                 │ (\u001b[38;5;45mNone\u001b[0m, \u001b[38;5;34m128\u001b[0m)            │        \u001b[38;5;34m16,512\u001b[0m │\n",
              "├─────────────────────────────────┼────────────────────────┼───────────────┤\n",
              "│ leaky_re_lu_1 (\u001b[38;5;33mLeakyReLU\u001b[0m)       │ (\u001b[38;5;45mNone\u001b[0m, \u001b[38;5;34m128\u001b[0m)            │             \u001b[38;5;34m0\u001b[0m │\n",
              "├─────────────────────────────────┼────────────────────────┼───────────────┤\n",
              "│ dense_6 (\u001b[38;5;33mDense\u001b[0m)                 │ (\u001b[38;5;45mNone\u001b[0m, \u001b[38;5;34m7\u001b[0m)              │           \u001b[38;5;34m903\u001b[0m │\n",
              "└─────────────────────────────────┴────────────────────────┴───────────────┘\n"
            ],
            "text/html": [
              "<pre style=\"white-space:pre;overflow-x:auto;line-height:normal;font-family:Menlo,'DejaVu Sans Mono',consolas,'Courier New',monospace\">┏━━━━━━━━━━━━━━━━━━━━━━━━━━━━━━━━━┳━━━━━━━━━━━━━━━━━━━━━━━━┳━━━━━━━━━━━━━━━┓\n",
              "┃<span style=\"font-weight: bold\"> Layer (type)                    </span>┃<span style=\"font-weight: bold\"> Output Shape           </span>┃<span style=\"font-weight: bold\">       Param # </span>┃\n",
              "┡━━━━━━━━━━━━━━━━━━━━━━━━━━━━━━━━━╇━━━━━━━━━━━━━━━━━━━━━━━━╇━━━━━━━━━━━━━━━┩\n",
              "│ dense_4 (<span style=\"color: #0087ff; text-decoration-color: #0087ff\">Dense</span>)                 │ (<span style=\"color: #00d7ff; text-decoration-color: #00d7ff\">None</span>, <span style=\"color: #00af00; text-decoration-color: #00af00\">128</span>)            │        <span style=\"color: #00af00; text-decoration-color: #00af00\">12,672</span> │\n",
              "├─────────────────────────────────┼────────────────────────┼───────────────┤\n",
              "│ leaky_re_lu (<span style=\"color: #0087ff; text-decoration-color: #0087ff\">LeakyReLU</span>)         │ (<span style=\"color: #00d7ff; text-decoration-color: #00d7ff\">None</span>, <span style=\"color: #00af00; text-decoration-color: #00af00\">128</span>)            │             <span style=\"color: #00af00; text-decoration-color: #00af00\">0</span> │\n",
              "├─────────────────────────────────┼────────────────────────┼───────────────┤\n",
              "│ dense_5 (<span style=\"color: #0087ff; text-decoration-color: #0087ff\">Dense</span>)                 │ (<span style=\"color: #00d7ff; text-decoration-color: #00d7ff\">None</span>, <span style=\"color: #00af00; text-decoration-color: #00af00\">128</span>)            │        <span style=\"color: #00af00; text-decoration-color: #00af00\">16,512</span> │\n",
              "├─────────────────────────────────┼────────────────────────┼───────────────┤\n",
              "│ leaky_re_lu_1 (<span style=\"color: #0087ff; text-decoration-color: #0087ff\">LeakyReLU</span>)       │ (<span style=\"color: #00d7ff; text-decoration-color: #00d7ff\">None</span>, <span style=\"color: #00af00; text-decoration-color: #00af00\">128</span>)            │             <span style=\"color: #00af00; text-decoration-color: #00af00\">0</span> │\n",
              "├─────────────────────────────────┼────────────────────────┼───────────────┤\n",
              "│ dense_6 (<span style=\"color: #0087ff; text-decoration-color: #0087ff\">Dense</span>)                 │ (<span style=\"color: #00d7ff; text-decoration-color: #00d7ff\">None</span>, <span style=\"color: #00af00; text-decoration-color: #00af00\">7</span>)              │           <span style=\"color: #00af00; text-decoration-color: #00af00\">903</span> │\n",
              "└─────────────────────────────────┴────────────────────────┴───────────────┘\n",
              "</pre>\n"
            ]
          },
          "metadata": {}
        },
        {
          "output_type": "display_data",
          "data": {
            "text/plain": [
              "\u001b[1m Total params: \u001b[0m\u001b[38;5;34m30,087\u001b[0m (117.53 KB)\n"
            ],
            "text/html": [
              "<pre style=\"white-space:pre;overflow-x:auto;line-height:normal;font-family:Menlo,'DejaVu Sans Mono',consolas,'Courier New',monospace\"><span style=\"font-weight: bold\"> Total params: </span><span style=\"color: #00af00; text-decoration-color: #00af00\">30,087</span> (117.53 KB)\n",
              "</pre>\n"
            ]
          },
          "metadata": {}
        },
        {
          "output_type": "display_data",
          "data": {
            "text/plain": [
              "\u001b[1m Trainable params: \u001b[0m\u001b[38;5;34m30,087\u001b[0m (117.53 KB)\n"
            ],
            "text/html": [
              "<pre style=\"white-space:pre;overflow-x:auto;line-height:normal;font-family:Menlo,'DejaVu Sans Mono',consolas,'Courier New',monospace\"><span style=\"font-weight: bold\"> Trainable params: </span><span style=\"color: #00af00; text-decoration-color: #00af00\">30,087</span> (117.53 KB)\n",
              "</pre>\n"
            ]
          },
          "metadata": {}
        },
        {
          "output_type": "display_data",
          "data": {
            "text/plain": [
              "\u001b[1m Non-trainable params: \u001b[0m\u001b[38;5;34m0\u001b[0m (0.00 B)\n"
            ],
            "text/html": [
              "<pre style=\"white-space:pre;overflow-x:auto;line-height:normal;font-family:Menlo,'DejaVu Sans Mono',consolas,'Courier New',monospace\"><span style=\"font-weight: bold\"> Non-trainable params: </span><span style=\"color: #00af00; text-decoration-color: #00af00\">0</span> (0.00 B)\n",
              "</pre>\n"
            ]
          },
          "metadata": {}
        }
      ]
    },
    {
      "cell_type": "markdown",
      "source": [
        "# REGULARIZATION TECHNIQUES"
      ],
      "metadata": {
        "id": "qoNJ5Zi3qjUh"
      }
    },
    {
      "cell_type": "code",
      "source": [
        "def build_dropout_model(input_size, num_classes, dropout_rate=0.3):\n",
        "    model = models.Sequential([\n",
        "        layers.Input(shape=(input_size,)),\n",
        "        layers.Dense(512, activation='relu'),\n",
        "        layers.Dropout(dropout_rate),\n",
        "        layers.Dense(512, activation='relu'),\n",
        "        layers.Dropout(dropout_rate),\n",
        "        layers.Dense(num_classes, activation='softmax')\n",
        "    ])\n",
        "    return model\n",
        "\n",
        "dropout_model = build_dropout_model(input_size, num_classes, dropout_rate=0.4) # Experimenting with a different dropout rate\n",
        "dropout_model.compile(optimizer='adam', loss='categorical_crossentropy', metrics=['accuracy'])\n",
        "dropout_model.summary()"
      ],
      "metadata": {
        "colab": {
          "base_uri": "https://localhost:8080/",
          "height": 289
        },
        "id": "SDmxiZ-Tqm59",
        "outputId": "1788d624-f57e-4e18-fa97-009aceef5db6"
      },
      "execution_count": 19,
      "outputs": [
        {
          "output_type": "display_data",
          "data": {
            "text/plain": [
              "\u001b[1mModel: \"sequential_2\"\u001b[0m\n"
            ],
            "text/html": [
              "<pre style=\"white-space:pre;overflow-x:auto;line-height:normal;font-family:Menlo,'DejaVu Sans Mono',consolas,'Courier New',monospace\"><span style=\"font-weight: bold\">Model: \"sequential_2\"</span>\n",
              "</pre>\n"
            ]
          },
          "metadata": {}
        },
        {
          "output_type": "display_data",
          "data": {
            "text/plain": [
              "┏━━━━━━━━━━━━━━━━━━━━━━━━━━━━━━━━━┳━━━━━━━━━━━━━━━━━━━━━━━━┳━━━━━━━━━━━━━━━┓\n",
              "┃\u001b[1m \u001b[0m\u001b[1mLayer (type)                   \u001b[0m\u001b[1m \u001b[0m┃\u001b[1m \u001b[0m\u001b[1mOutput Shape          \u001b[0m\u001b[1m \u001b[0m┃\u001b[1m \u001b[0m\u001b[1m      Param #\u001b[0m\u001b[1m \u001b[0m┃\n",
              "┡━━━━━━━━━━━━━━━━━━━━━━━━━━━━━━━━━╇━━━━━━━━━━━━━━━━━━━━━━━━╇━━━━━━━━━━━━━━━┩\n",
              "│ dense_7 (\u001b[38;5;33mDense\u001b[0m)                 │ (\u001b[38;5;45mNone\u001b[0m, \u001b[38;5;34m512\u001b[0m)            │        \u001b[38;5;34m50,688\u001b[0m │\n",
              "├─────────────────────────────────┼────────────────────────┼───────────────┤\n",
              "│ dropout (\u001b[38;5;33mDropout\u001b[0m)               │ (\u001b[38;5;45mNone\u001b[0m, \u001b[38;5;34m512\u001b[0m)            │             \u001b[38;5;34m0\u001b[0m │\n",
              "├─────────────────────────────────┼────────────────────────┼───────────────┤\n",
              "│ dense_8 (\u001b[38;5;33mDense\u001b[0m)                 │ (\u001b[38;5;45mNone\u001b[0m, \u001b[38;5;34m512\u001b[0m)            │       \u001b[38;5;34m262,656\u001b[0m │\n",
              "├─────────────────────────────────┼────────────────────────┼───────────────┤\n",
              "│ dropout_1 (\u001b[38;5;33mDropout\u001b[0m)             │ (\u001b[38;5;45mNone\u001b[0m, \u001b[38;5;34m512\u001b[0m)            │             \u001b[38;5;34m0\u001b[0m │\n",
              "├─────────────────────────────────┼────────────────────────┼───────────────┤\n",
              "│ dense_9 (\u001b[38;5;33mDense\u001b[0m)                 │ (\u001b[38;5;45mNone\u001b[0m, \u001b[38;5;34m7\u001b[0m)              │         \u001b[38;5;34m3,591\u001b[0m │\n",
              "└─────────────────────────────────┴────────────────────────┴───────────────┘\n"
            ],
            "text/html": [
              "<pre style=\"white-space:pre;overflow-x:auto;line-height:normal;font-family:Menlo,'DejaVu Sans Mono',consolas,'Courier New',monospace\">┏━━━━━━━━━━━━━━━━━━━━━━━━━━━━━━━━━┳━━━━━━━━━━━━━━━━━━━━━━━━┳━━━━━━━━━━━━━━━┓\n",
              "┃<span style=\"font-weight: bold\"> Layer (type)                    </span>┃<span style=\"font-weight: bold\"> Output Shape           </span>┃<span style=\"font-weight: bold\">       Param # </span>┃\n",
              "┡━━━━━━━━━━━━━━━━━━━━━━━━━━━━━━━━━╇━━━━━━━━━━━━━━━━━━━━━━━━╇━━━━━━━━━━━━━━━┩\n",
              "│ dense_7 (<span style=\"color: #0087ff; text-decoration-color: #0087ff\">Dense</span>)                 │ (<span style=\"color: #00d7ff; text-decoration-color: #00d7ff\">None</span>, <span style=\"color: #00af00; text-decoration-color: #00af00\">512</span>)            │        <span style=\"color: #00af00; text-decoration-color: #00af00\">50,688</span> │\n",
              "├─────────────────────────────────┼────────────────────────┼───────────────┤\n",
              "│ dropout (<span style=\"color: #0087ff; text-decoration-color: #0087ff\">Dropout</span>)               │ (<span style=\"color: #00d7ff; text-decoration-color: #00d7ff\">None</span>, <span style=\"color: #00af00; text-decoration-color: #00af00\">512</span>)            │             <span style=\"color: #00af00; text-decoration-color: #00af00\">0</span> │\n",
              "├─────────────────────────────────┼────────────────────────┼───────────────┤\n",
              "│ dense_8 (<span style=\"color: #0087ff; text-decoration-color: #0087ff\">Dense</span>)                 │ (<span style=\"color: #00d7ff; text-decoration-color: #00d7ff\">None</span>, <span style=\"color: #00af00; text-decoration-color: #00af00\">512</span>)            │       <span style=\"color: #00af00; text-decoration-color: #00af00\">262,656</span> │\n",
              "├─────────────────────────────────┼────────────────────────┼───────────────┤\n",
              "│ dropout_1 (<span style=\"color: #0087ff; text-decoration-color: #0087ff\">Dropout</span>)             │ (<span style=\"color: #00d7ff; text-decoration-color: #00d7ff\">None</span>, <span style=\"color: #00af00; text-decoration-color: #00af00\">512</span>)            │             <span style=\"color: #00af00; text-decoration-color: #00af00\">0</span> │\n",
              "├─────────────────────────────────┼────────────────────────┼───────────────┤\n",
              "│ dense_9 (<span style=\"color: #0087ff; text-decoration-color: #0087ff\">Dense</span>)                 │ (<span style=\"color: #00d7ff; text-decoration-color: #00d7ff\">None</span>, <span style=\"color: #00af00; text-decoration-color: #00af00\">7</span>)              │         <span style=\"color: #00af00; text-decoration-color: #00af00\">3,591</span> │\n",
              "└─────────────────────────────────┴────────────────────────┴───────────────┘\n",
              "</pre>\n"
            ]
          },
          "metadata": {}
        },
        {
          "output_type": "display_data",
          "data": {
            "text/plain": [
              "\u001b[1m Total params: \u001b[0m\u001b[38;5;34m316,935\u001b[0m (1.21 MB)\n"
            ],
            "text/html": [
              "<pre style=\"white-space:pre;overflow-x:auto;line-height:normal;font-family:Menlo,'DejaVu Sans Mono',consolas,'Courier New',monospace\"><span style=\"font-weight: bold\"> Total params: </span><span style=\"color: #00af00; text-decoration-color: #00af00\">316,935</span> (1.21 MB)\n",
              "</pre>\n"
            ]
          },
          "metadata": {}
        },
        {
          "output_type": "display_data",
          "data": {
            "text/plain": [
              "\u001b[1m Trainable params: \u001b[0m\u001b[38;5;34m316,935\u001b[0m (1.21 MB)\n"
            ],
            "text/html": [
              "<pre style=\"white-space:pre;overflow-x:auto;line-height:normal;font-family:Menlo,'DejaVu Sans Mono',consolas,'Courier New',monospace\"><span style=\"font-weight: bold\"> Trainable params: </span><span style=\"color: #00af00; text-decoration-color: #00af00\">316,935</span> (1.21 MB)\n",
              "</pre>\n"
            ]
          },
          "metadata": {}
        },
        {
          "output_type": "display_data",
          "data": {
            "text/plain": [
              "\u001b[1m Non-trainable params: \u001b[0m\u001b[38;5;34m0\u001b[0m (0.00 B)\n"
            ],
            "text/html": [
              "<pre style=\"white-space:pre;overflow-x:auto;line-height:normal;font-family:Menlo,'DejaVu Sans Mono',consolas,'Courier New',monospace\"><span style=\"font-weight: bold\"> Non-trainable params: </span><span style=\"color: #00af00; text-decoration-color: #00af00\">0</span> (0.00 B)\n",
              "</pre>\n"
            ]
          },
          "metadata": {}
        }
      ]
    },
    {
      "cell_type": "markdown",
      "source": [
        "**Adding L2 Regularization**"
      ],
      "metadata": {
        "id": "8BbCIfv_qzzM"
      }
    },
    {
      "cell_type": "code",
      "source": [
        "def build_l2_regularized_model(input_size, num_classes, l2_lambda=0.001):\n",
        "    model = models.Sequential([\n",
        "        layers.Input(shape=(input_size,)),\n",
        "        layers.Dense(512, activation='relu', kernel_regularizer=regularizers.l2(l2_lambda)),\n",
        "        layers.Dense(512, activation='relu', kernel_regularizer=regularizers.l2(l2_lambda)),\n",
        "        layers.Dense(num_classes, activation='softmax')\n",
        "    ])\n",
        "    return model\n",
        "\n",
        "l2_regularized_model = build_l2_regularized_model(input_size, num_classes, l2_lambda=0.0005) # Experimenting with a different L2 lambda\n",
        "l2_regularized_model.compile(optimizer='adam', loss='categorical_crossentropy', metrics=['accuracy'])\n",
        "l2_regularized_model.summary()"
      ],
      "metadata": {
        "colab": {
          "base_uri": "https://localhost:8080/",
          "height": 225
        },
        "id": "Jep_7-5sq2ko",
        "outputId": "7030efb0-ea0e-4dce-8446-8f79e299624d"
      },
      "execution_count": 20,
      "outputs": [
        {
          "output_type": "display_data",
          "data": {
            "text/plain": [
              "\u001b[1mModel: \"sequential_3\"\u001b[0m\n"
            ],
            "text/html": [
              "<pre style=\"white-space:pre;overflow-x:auto;line-height:normal;font-family:Menlo,'DejaVu Sans Mono',consolas,'Courier New',monospace\"><span style=\"font-weight: bold\">Model: \"sequential_3\"</span>\n",
              "</pre>\n"
            ]
          },
          "metadata": {}
        },
        {
          "output_type": "display_data",
          "data": {
            "text/plain": [
              "┏━━━━━━━━━━━━━━━━━━━━━━━━━━━━━━━━━┳━━━━━━━━━━━━━━━━━━━━━━━━┳━━━━━━━━━━━━━━━┓\n",
              "┃\u001b[1m \u001b[0m\u001b[1mLayer (type)                   \u001b[0m\u001b[1m \u001b[0m┃\u001b[1m \u001b[0m\u001b[1mOutput Shape          \u001b[0m\u001b[1m \u001b[0m┃\u001b[1m \u001b[0m\u001b[1m      Param #\u001b[0m\u001b[1m \u001b[0m┃\n",
              "┡━━━━━━━━━━━━━━━━━━━━━━━━━━━━━━━━━╇━━━━━━━━━━━━━━━━━━━━━━━━╇━━━━━━━━━━━━━━━┩\n",
              "│ dense_10 (\u001b[38;5;33mDense\u001b[0m)                │ (\u001b[38;5;45mNone\u001b[0m, \u001b[38;5;34m512\u001b[0m)            │        \u001b[38;5;34m50,688\u001b[0m │\n",
              "├─────────────────────────────────┼────────────────────────┼───────────────┤\n",
              "│ dense_11 (\u001b[38;5;33mDense\u001b[0m)                │ (\u001b[38;5;45mNone\u001b[0m, \u001b[38;5;34m512\u001b[0m)            │       \u001b[38;5;34m262,656\u001b[0m │\n",
              "├─────────────────────────────────┼────────────────────────┼───────────────┤\n",
              "│ dense_12 (\u001b[38;5;33mDense\u001b[0m)                │ (\u001b[38;5;45mNone\u001b[0m, \u001b[38;5;34m7\u001b[0m)              │         \u001b[38;5;34m3,591\u001b[0m │\n",
              "└─────────────────────────────────┴────────────────────────┴───────────────┘\n"
            ],
            "text/html": [
              "<pre style=\"white-space:pre;overflow-x:auto;line-height:normal;font-family:Menlo,'DejaVu Sans Mono',consolas,'Courier New',monospace\">┏━━━━━━━━━━━━━━━━━━━━━━━━━━━━━━━━━┳━━━━━━━━━━━━━━━━━━━━━━━━┳━━━━━━━━━━━━━━━┓\n",
              "┃<span style=\"font-weight: bold\"> Layer (type)                    </span>┃<span style=\"font-weight: bold\"> Output Shape           </span>┃<span style=\"font-weight: bold\">       Param # </span>┃\n",
              "┡━━━━━━━━━━━━━━━━━━━━━━━━━━━━━━━━━╇━━━━━━━━━━━━━━━━━━━━━━━━╇━━━━━━━━━━━━━━━┩\n",
              "│ dense_10 (<span style=\"color: #0087ff; text-decoration-color: #0087ff\">Dense</span>)                │ (<span style=\"color: #00d7ff; text-decoration-color: #00d7ff\">None</span>, <span style=\"color: #00af00; text-decoration-color: #00af00\">512</span>)            │        <span style=\"color: #00af00; text-decoration-color: #00af00\">50,688</span> │\n",
              "├─────────────────────────────────┼────────────────────────┼───────────────┤\n",
              "│ dense_11 (<span style=\"color: #0087ff; text-decoration-color: #0087ff\">Dense</span>)                │ (<span style=\"color: #00d7ff; text-decoration-color: #00d7ff\">None</span>, <span style=\"color: #00af00; text-decoration-color: #00af00\">512</span>)            │       <span style=\"color: #00af00; text-decoration-color: #00af00\">262,656</span> │\n",
              "├─────────────────────────────────┼────────────────────────┼───────────────┤\n",
              "│ dense_12 (<span style=\"color: #0087ff; text-decoration-color: #0087ff\">Dense</span>)                │ (<span style=\"color: #00d7ff; text-decoration-color: #00d7ff\">None</span>, <span style=\"color: #00af00; text-decoration-color: #00af00\">7</span>)              │         <span style=\"color: #00af00; text-decoration-color: #00af00\">3,591</span> │\n",
              "└─────────────────────────────────┴────────────────────────┴───────────────┘\n",
              "</pre>\n"
            ]
          },
          "metadata": {}
        },
        {
          "output_type": "display_data",
          "data": {
            "text/plain": [
              "\u001b[1m Total params: \u001b[0m\u001b[38;5;34m316,935\u001b[0m (1.21 MB)\n"
            ],
            "text/html": [
              "<pre style=\"white-space:pre;overflow-x:auto;line-height:normal;font-family:Menlo,'DejaVu Sans Mono',consolas,'Courier New',monospace\"><span style=\"font-weight: bold\"> Total params: </span><span style=\"color: #00af00; text-decoration-color: #00af00\">316,935</span> (1.21 MB)\n",
              "</pre>\n"
            ]
          },
          "metadata": {}
        },
        {
          "output_type": "display_data",
          "data": {
            "text/plain": [
              "\u001b[1m Trainable params: \u001b[0m\u001b[38;5;34m316,935\u001b[0m (1.21 MB)\n"
            ],
            "text/html": [
              "<pre style=\"white-space:pre;overflow-x:auto;line-height:normal;font-family:Menlo,'DejaVu Sans Mono',consolas,'Courier New',monospace\"><span style=\"font-weight: bold\"> Trainable params: </span><span style=\"color: #00af00; text-decoration-color: #00af00\">316,935</span> (1.21 MB)\n",
              "</pre>\n"
            ]
          },
          "metadata": {}
        },
        {
          "output_type": "display_data",
          "data": {
            "text/plain": [
              "\u001b[1m Non-trainable params: \u001b[0m\u001b[38;5;34m0\u001b[0m (0.00 B)\n"
            ],
            "text/html": [
              "<pre style=\"white-space:pre;overflow-x:auto;line-height:normal;font-family:Menlo,'DejaVu Sans Mono',consolas,'Courier New',monospace\"><span style=\"font-weight: bold\"> Non-trainable params: </span><span style=\"color: #00af00; text-decoration-color: #00af00\">0</span> (0.00 B)\n",
              "</pre>\n"
            ]
          },
          "metadata": {}
        }
      ]
    },
    {
      "cell_type": "markdown",
      "source": [
        "# OPTIMIZER AND LEARNING RATE STRATEGY"
      ],
      "metadata": {
        "id": "T_nfQPLJrFWC"
      }
    },
    {
      "cell_type": "markdown",
      "source": [
        "**Trying Multiple Optimizers**"
      ],
      "metadata": {
        "id": "nz-ABr04rH2y"
      }
    },
    {
      "cell_type": "code",
      "source": [
        "def build_optimizer_model(input_size, num_classes):\n",
        "    model = models.Sequential([\n",
        "        layers.Input(shape=(input_size,)),\n",
        "        layers.Dense(128, activation='relu'),\n",
        "        layers.Dense(num_classes, activation='softmax')\n",
        "    ])\n",
        "    return model\n",
        "\n",
        "optimizers = {\n",
        "    'Adam': tf.keras.optimizers.Adam(),\n",
        "    'RMSprop': tf.keras.optimizers.RMSprop(),\n",
        "    'SGD_momentum': tf.keras.optimizers.SGD(momentum=0.9)\n",
        "}\n",
        "\n",
        "histories_optimizer = {}\n",
        "\n",
        "for name, optimizer in optimizers.items():\n",
        "    print(f\"Training with optimizer: {name}\")\n",
        "    model_opt = build_optimizer_model(input_size, num_classes)\n",
        "    model_opt.compile(optimizer=optimizer,\n",
        "                      loss='categorical_crossentropy',\n",
        "                      metrics=['accuracy'])\n",
        "\n",
        "    early_stopping = EarlyStopping(monitor='val_loss', patience=5, restore_best_weights=True)\n",
        "\n",
        "    history = model_opt.fit(x_train_processed, y_train_cat,\n",
        "                           epochs=30,\n",
        "                           validation_split=0.2,\n",
        "                           batch_size=128,\n",
        "                           verbose=0,\n",
        "                           callbacks=[early_stopping])\n",
        "\n",
        "    histories_optimizer[name] = history"
      ],
      "metadata": {
        "colab": {
          "base_uri": "https://localhost:8080/"
        },
        "id": "Smdkqcp3rQAK",
        "outputId": "35195a6b-59c2-432c-8c85-94e1ef3de08c"
      },
      "execution_count": 21,
      "outputs": [
        {
          "output_type": "stream",
          "name": "stdout",
          "text": [
            "Training with optimizer: Adam\n",
            "Training with optimizer: RMSprop\n",
            "Training with optimizer: SGD_momentum\n"
          ]
        }
      ]
    },
    {
      "cell_type": "markdown",
      "source": [
        "**Plotting optimizer comparisons**"
      ],
      "metadata": {
        "id": "85VSwWdRrgr2"
      }
    },
    {
      "cell_type": "code",
      "source": [
        "def plot_learning_curves(history, title=None):\n",
        "    plt.figure(figsize=(14, 5))\n",
        "for label, history in histories_optimizer.items():\n",
        "    plt.plot(history.history['val_accuracy'], label=f'{label} - Val Acc')\n",
        "\n",
        "plt.title(\"Validation Accuracy for Different Optimizers\")\n",
        "plt.xlabel(\"Epochs\")\n",
        "plt.ylabel(\"Validation Accuracy\")\n",
        "plt.legend()\n",
        "plt.grid(True)\n",
        "plt.show()"
      ],
      "metadata": {
        "colab": {
          "base_uri": "https://localhost:8080/",
          "height": 472
        },
        "id": "m21LcTohrw7Q",
        "outputId": "9081cb13-c664-412f-db5d-b688361fadf5"
      },
      "execution_count": 22,
      "outputs": [
        {
          "output_type": "display_data",
          "data": {
            "text/plain": [
              "<Figure size 640x480 with 1 Axes>"
            ],
            "image/png": "[encoded data removed]"
          },
          "metadata": {}
        }
      ]
    },
    {
      "cell_type": "markdown",
      "source": [
        "**Using Learning Rate Scheduling (ReduceLROnPlateau)**"
      ],
      "metadata": {
        "id": "li_0uiYkr4SV"
      }
    },
    {
      "cell_type": "code",
      "source": [
        "def build_lr_schedule_model(input_size, num_classes):\n",
        "    model = models.Sequential([\n",
        "        layers.Input(shape=(input_size,)),\n",
        "        layers.Dense(128, activation='relu'),\n",
        "        layers.Dense(num_classes, activation='softmax')\n",
        "    ])\n",
        "    return model\n",
        "\n",
        "model_lr_schedule = build_lr_schedule_model(input_size, num_classes)\n",
        "optimizer_lr_schedule = tf.keras.optimizers.Adam(learning_rate=0.001) # Start with a default learning rate\n",
        "model_lr_schedule.compile(optimizer=optimizer_lr_schedule,\n",
        "                          loss='categorical_crossentropy',\n",
        "                          metrics=['accuracy'])\n",
        "\n",
        "early_stopping_lr = EarlyStopping(monitor='val_loss', patience=10, restore_best_weights=True) # Increased patience for scheduling\n",
        "reduce_lr = ReduceLROnPlateau(monitor='val_loss', factor=0.5, patience=5, min_lr=0.0001) # Reduce LR when val_loss plateaus\n",
        "\n",
        "history_lr_schedule = model_lr_schedule.fit(x_train_processed, y_train_cat,\n",
        "                                            epochs=50, # More epochs to see scheduling effect\n",
        "                                            validation_split=0.2,\n",
        "                                            batch_size=128,\n",
        "                                            verbose=1,\n",
        "                                            callbacks=[early_stopping_lr, reduce_lr])\n",
        "\n",
        "plot_learning_curves(history_lr_schedule, title='Model with LR Scheduling')"
      ],
      "metadata": {
        "colab": {
          "base_uri": "https://localhost:8080/",
          "height": 1000
        },
        "id": "aYpfNT2rsDN8",
        "outputId": "9e2dcb95-eb2a-497a-a8d9-63335d9d7e25"
      },
      "execution_count": 23,
      "outputs": [
        {
          "output_type": "stream",
          "name": "stdout",
          "text": [
            "Epoch 1/50\n",
            "\u001b[1m2906/2906\u001b[0m \u001b[32m━━━━━━━━━━━━━━━━━━━━\u001b[0m\u001b[37m\u001b[0m \u001b[1m10s\u001b[0m 3ms/step - accuracy: 0.7084 - loss: 0.6898 - val_accuracy: 0.7596 - val_loss: 0.5650 - learning_rate: 0.0010\n",
            "Epoch 2/50\n",
            "\u001b[1m2906/2906\u001b[0m \u001b[32m━━━━━━━━━━━━━━━━━━━━\u001b[0m\u001b[37m\u001b[0m \u001b[1m12s\u001b[0m 4ms/step - accuracy: 0.7637 - loss: 0.5495 - val_accuracy: 0.7777 - val_loss: 0.5206 - learning_rate: 0.0010\n",
            "Epoch 3/50\n",
            "\u001b[1m2906/2906\u001b[0m \u001b[32m━━━━━━━━━━━━━━━━━━━━\u001b[0m\u001b[37m\u001b[0m \u001b[1m9s\u001b[0m 3ms/step - accuracy: 0.7778 - loss: 0.5149 - val_accuracy: 0.7849 - val_loss: 0.4991 - learning_rate: 0.0010\n",
            "Epoch 4/50\n",
            "\u001b[1m2906/2906\u001b[0m \u001b[32m━━━━━━━━━━━━━━━━━━━━\u001b[0m\u001b[37m\u001b[0m \u001b[1m11s\u001b[0m 3ms/step - accuracy: 0.7872 - loss: 0.4927 - val_accuracy: 0.7910 - val_loss: 0.4817 - learning_rate: 0.0010\n",
            "Epoch 5/50\n",
            "\u001b[1m2906/2906\u001b[0m \u001b[32m━━━━━━━━━━━━━━━━━━━━\u001b[0m\u001b[37m\u001b[0m \u001b[1m9s\u001b[0m 3ms/step - accuracy: 0.7935 - loss: 0.4792 - val_accuracy: 0.7998 - val_loss: 0.4690 - learning_rate: 0.0010\n",
            "Epoch 6/50\n",
            "\u001b[1m2906/2906\u001b[0m \u001b[32m━━━━━━━━━━━━━━━━━━━━\u001b[0m\u001b[37m\u001b[0m \u001b[1m8s\u001b[0m 3ms/step - accuracy: 0.8002 - loss: 0.4656 - val_accuracy: 0.8017 - val_loss: 0.4665 - learning_rate: 0.0010\n",
            "Epoch 7/50\n",
            "\u001b[1m2906/2906\u001b[0m \u001b[32m━━━━━━━━━━━━━━━━━━━━\u001b[0m\u001b[37m\u001b[0m \u001b[1m9s\u001b[0m 3ms/step - accuracy: 0.8056 - loss: 0.4527 - val_accuracy: 0.8023 - val_loss: 0.4586 - learning_rate: 0.0010\n",
            "Epoch 8/50\n",
            "\u001b[1m2906/2906\u001b[0m \u001b[32m━━━━━━━━━━━━━━━━━━━━\u001b[0m\u001b[37m\u001b[0m \u001b[1m10s\u001b[0m 3ms/step - accuracy: 0.8111 - loss: 0.4450 - val_accuracy: 0.8109 - val_loss: 0.4479 - learning_rate: 0.0010\n",
            "Epoch 9/50\n",
            "\u001b[1m2906/2906\u001b[0m \u001b[32m━━━━━━━━━━━━━━━━━━━━\u001b[0m\u001b[37m\u001b[0m \u001b[1m8s\u001b[0m 3ms/step - accuracy: 0.8115 - loss: 0.4398 - val_accuracy: 0.8027 - val_loss: 0.4512 - learning_rate: 0.0010\n",
            "Epoch 10/50\n",
            "\u001b[1m2906/2906\u001b[0m \u001b[32m━━━━━━━━━━━━━━━━━━━━\u001b[0m\u001b[37m\u001b[0m \u001b[1m9s\u001b[0m 3ms/step - accuracy: 0.8154 - loss: 0.4322 - val_accuracy: 0.8193 - val_loss: 0.4274 - learning_rate: 0.0010\n",
            "Epoch 11/50\n",
            "\u001b[1m2906/2906\u001b[0m \u001b[32m━━━━━━━━━━━━━━━━━━━━\u001b[0m\u001b[37m\u001b[0m \u001b[1m10s\u001b[0m 3ms/step - accuracy: 0.8166 - loss: 0.4289 - val_accuracy: 0.8195 - val_loss: 0.4225 - learning_rate: 0.0010\n",
            "Epoch 12/50\n",
            "\u001b[1m2906/2906\u001b[0m \u001b[32m━━━━━━━━━━━━━━━━━━━━\u001b[0m\u001b[37m\u001b[0m \u001b[1m9s\u001b[0m 3ms/step - accuracy: 0.8208 - loss: 0.4207 - val_accuracy: 0.8186 - val_loss: 0.4220 - learning_rate: 0.0010\n",
            "Epoch 13/50\n",
            "\u001b[1m2906/2906\u001b[0m \u001b[32m━━━━━━━━━━━━━━━━━━━━\u001b[0m\u001b[37m\u001b[0m \u001b[1m9s\u001b[0m 3ms/step - accuracy: 0.8223 - loss: 0.4169 - val_accuracy: 0.8068 - val_loss: 0.4394 - learning_rate: 0.0010\n",
            "Epoch 14/50\n",
            "\u001b[1m2906/2906\u001b[0m \u001b[32m━━━━━━━━━━━━━━━━━━━━\u001b[0m\u001b[37m\u001b[0m \u001b[1m9s\u001b[0m 3ms/step - accuracy: 0.8241 - loss: 0.4139 - val_accuracy: 0.8287 - val_loss: 0.4074 - learning_rate: 0.0010\n",
            "Epoch 15/50\n",
            "\u001b[1m2906/2906\u001b[0m \u001b[32m━━━━━━━━━━━━━━━━━━━━\u001b[0m\u001b[37m\u001b[0m \u001b[1m10s\u001b[0m 3ms/step - accuracy: 0.8265 - loss: 0.4070 - val_accuracy: 0.8126 - val_loss: 0.4382 - learning_rate: 0.0010\n",
            "Epoch 16/50\n",
            "\u001b[1m2906/2906\u001b[0m \u001b[32m━━━━━━━━━━━━━━━━━━━━\u001b[0m\u001b[37m\u001b[0m \u001b[1m11s\u001b[0m 3ms/step - accuracy: 0.8275 - loss: 0.4052 - val_accuracy: 0.8277 - val_loss: 0.4077 - learning_rate: 0.0010\n",
            "Epoch 17/50\n",
            "\u001b[1m2906/2906\u001b[0m \u001b[32m━━━━━━━━━━━━━━━━━━━━\u001b[0m\u001b[37m\u001b[0m \u001b[1m9s\u001b[0m 3ms/step - accuracy: 0.8299 - loss: 0.4016 - val_accuracy: 0.8093 - val_loss: 0.4308 - learning_rate: 0.0010\n",
            "Epoch 18/50\n",
            "\u001b[1m2906/2906\u001b[0m \u001b[32m━━━━━━━━━━━━━━━━━━━━\u001b[0m\u001b[37m\u001b[0m \u001b[1m9s\u001b[0m 3ms/step - accuracy: 0.8316 - loss: 0.3962 - val_accuracy: 0.8325 - val_loss: 0.3973 - learning_rate: 0.0010\n",
            "Epoch 19/50\n",
            "\u001b[1m2906/2906\u001b[0m \u001b[32m━━━━━━━━━━━━━━━━━━━━\u001b[0m\u001b[37m\u001b[0m \u001b[1m9s\u001b[0m 3ms/step - accuracy: 0.8335 - loss: 0.3935 - val_accuracy: 0.8373 - val_loss: 0.3905 - learning_rate: 0.0010\n",
            "Epoch 20/50\n",
            "\u001b[1m2906/2906\u001b[0m \u001b[32m━━━━━━━━━━━━━━━━━━━━\u001b[0m\u001b[37m\u001b[0m \u001b[1m8s\u001b[0m 3ms/step - accuracy: 0.8338 - loss: 0.3911 - val_accuracy: 0.8373 - val_loss: 0.3879 - learning_rate: 0.0010\n",
            "Epoch 21/50\n",
            "\u001b[1m2906/2906\u001b[0m \u001b[32m━━━━━━━━━━━━━━━━━━━━\u001b[0m\u001b[37m\u001b[0m \u001b[1m9s\u001b[0m 3ms/step - accuracy: 0.8355 - loss: 0.3881 - val_accuracy: 0.8171 - val_loss: 0.4126 - learning_rate: 0.0010\n",
            "Epoch 22/50\n",
            "\u001b[1m2906/2906\u001b[0m \u001b[32m━━━━━━━━━━━━━━━━━━━━\u001b[0m\u001b[37m\u001b[0m \u001b[1m10s\u001b[0m 3ms/step - accuracy: 0.8380 - loss: 0.3842 - val_accuracy: 0.8212 - val_loss: 0.4238 - learning_rate: 0.0010\n",
            "Epoch 23/50\n",
            "\u001b[1m2906/2906\u001b[0m \u001b[32m━━━━━━━━━━━━━━━━━━━━\u001b[0m\u001b[37m\u001b[0m \u001b[1m11s\u001b[0m 3ms/step - accuracy: 0.8376 - loss: 0.3846 - val_accuracy: 0.8369 - val_loss: 0.3887 - learning_rate: 0.0010\n",
            "Epoch 24/50\n",
            "\u001b[1m2906/2906\u001b[0m \u001b[32m━━━━━━━━━━━━━━━━━━━━\u001b[0m\u001b[37m\u001b[0m \u001b[1m9s\u001b[0m 3ms/step - accuracy: 0.8378 - loss: 0.3829 - val_accuracy: 0.8287 - val_loss: 0.4101 - learning_rate: 0.0010\n",
            "Epoch 25/50\n",
            "\u001b[1m2906/2906\u001b[0m \u001b[32m━━━━━━━━━━━━━━━━━━━━\u001b[0m\u001b[37m\u001b[0m \u001b[1m9s\u001b[0m 3ms/step - accuracy: 0.8394 - loss: 0.3811 - val_accuracy: 0.8426 - val_loss: 0.3776 - learning_rate: 0.0010\n",
            "Epoch 26/50\n",
            "\u001b[1m2906/2906\u001b[0m \u001b[32m━━━━━━━━━━━━━━━━━━━━\u001b[0m\u001b[37m\u001b[0m \u001b[1m10s\u001b[0m 3ms/step - accuracy: 0.8419 - loss: 0.3750 - val_accuracy: 0.8407 - val_loss: 0.3824 - learning_rate: 0.0010\n",
            "Epoch 27/50\n",
            "\u001b[1m2906/2906\u001b[0m \u001b[32m━━━━━━━━━━━━━━━━━━━━\u001b[0m\u001b[37m\u001b[0m \u001b[1m8s\u001b[0m 3ms/step - accuracy: 0.8425 - loss: 0.3756 - val_accuracy: 0.8445 - val_loss: 0.3773 - learning_rate: 0.0010\n",
            "Epoch 28/50\n",
            "\u001b[1m2906/2906\u001b[0m \u001b[32m━━━━━━━━━━━━━━━━━━━━\u001b[0m\u001b[37m\u001b[0m \u001b[1m10s\u001b[0m 3ms/step - accuracy: 0.8431 - loss: 0.3727 - val_accuracy: 0.8471 - val_loss: 0.3702 - learning_rate: 0.0010\n",
            "Epoch 29/50\n",
            "\u001b[1m2906/2906\u001b[0m \u001b[32m━━━━━━━━━━━━━━━━━━━━\u001b[0m\u001b[37m\u001b[0m \u001b[1m9s\u001b[0m 3ms/step - accuracy: 0.8431 - loss: 0.3718 - val_accuracy: 0.8412 - val_loss: 0.3751 - learning_rate: 0.0010\n",
            "Epoch 30/50\n",
            "\u001b[1m2906/2906\u001b[0m \u001b[32m━━━━━━━━━━━━━━━━━━━━\u001b[0m\u001b[37m\u001b[0m \u001b[1m9s\u001b[0m 3ms/step - accuracy: 0.8454 - loss: 0.3677 - val_accuracy: 0.8446 - val_loss: 0.3698 - learning_rate: 0.0010\n",
            "Epoch 31/50\n",
            "\u001b[1m2906/2906\u001b[0m \u001b[32m━━━━━━━━━━━━━━━━━━━━\u001b[0m\u001b[37m\u001b[0m \u001b[1m9s\u001b[0m 3ms/step - accuracy: 0.8463 - loss: 0.3671 - val_accuracy: 0.8415 - val_loss: 0.3788 - learning_rate: 0.0010\n",
            "Epoch 32/50\n",
            "\u001b[1m2906/2906\u001b[0m \u001b[32m━━━━━━━━━━━━━━━━━━━━\u001b[0m\u001b[37m\u001b[0m \u001b[1m10s\u001b[0m 4ms/step - accuracy: 0.8454 - loss: 0.3670 - val_accuracy: 0.8353 - val_loss: 0.3813 - learning_rate: 0.0010\n",
            "Epoch 33/50\n",
            "\u001b[1m2906/2906\u001b[0m \u001b[32m━━━━━━━━━━━━━━━━━━━━\u001b[0m\u001b[37m\u001b[0m \u001b[1m10s\u001b[0m 3ms/step - accuracy: 0.8486 - loss: 0.3616 - val_accuracy: 0.8471 - val_loss: 0.3693 - learning_rate: 0.0010\n",
            "Epoch 34/50\n",
            "\u001b[1m2906/2906\u001b[0m \u001b[32m━━━━━━━━━━━━━━━━━━━━\u001b[0m\u001b[37m\u001b[0m \u001b[1m11s\u001b[0m 4ms/step - accuracy: 0.8475 - loss: 0.3623 - val_accuracy: 0.8441 - val_loss: 0.3718 - learning_rate: 0.0010\n",
            "Epoch 35/50\n",
            "\u001b[1m2906/2906\u001b[0m \u001b[32m━━━━━━━━━━━━━━━━━━━━\u001b[0m\u001b[37m\u001b[0m \u001b[1m11s\u001b[0m 4ms/step - accuracy: 0.8471 - loss: 0.3651 - val_accuracy: 0.8529 - val_loss: 0.3564 - learning_rate: 0.0010\n",
            "Epoch 36/50\n",
            "\u001b[1m2906/2906\u001b[0m \u001b[32m━━━━━━━━━━━━━━━━━━━━\u001b[0m\u001b[37m\u001b[0m \u001b[1m10s\u001b[0m 3ms/step - accuracy: 0.8473 - loss: 0.3642 - val_accuracy: 0.8383 - val_loss: 0.3808 - learning_rate: 0.0010\n",
            "Epoch 37/50\n",
            "\u001b[1m2906/2906\u001b[0m \u001b[32m━━━━━━━━━━━━━━━━━━━━\u001b[0m\u001b[37m\u001b[0m \u001b[1m9s\u001b[0m 3ms/step - accuracy: 0.8481 - loss: 0.3619 - val_accuracy: 0.8496 - val_loss: 0.3649 - learning_rate: 0.0010\n",
            "Epoch 38/50\n",
            "\u001b[1m2906/2906\u001b[0m \u001b[32m━━━━━━━━━━━━━━━━━━━━\u001b[0m\u001b[37m\u001b[0m \u001b[1m9s\u001b[0m 3ms/step - accuracy: 0.8494 - loss: 0.3592 - val_accuracy: 0.8468 - val_loss: 0.3679 - learning_rate: 0.0010\n",
            "Epoch 39/50\n",
            "\u001b[1m2906/2906\u001b[0m \u001b[32m━━━━━━━━━━━━━━━━━━━━\u001b[0m\u001b[37m\u001b[0m \u001b[1m9s\u001b[0m 3ms/step - accuracy: 0.8514 - loss: 0.3561 - val_accuracy: 0.8430 - val_loss: 0.3765 - learning_rate: 0.0010\n",
            "Epoch 40/50\n",
            "\u001b[1m2906/2906\u001b[0m \u001b[32m━━━━━━━━━━━━━━━━━━━━\u001b[0m\u001b[37m\u001b[0m \u001b[1m10s\u001b[0m 3ms/step - accuracy: 0.8518 - loss: 0.3563 - val_accuracy: 0.8435 - val_loss: 0.3727 - learning_rate: 0.0010\n",
            "Epoch 41/50\n",
            "\u001b[1m2906/2906\u001b[0m \u001b[32m━━━━━━━━━━━━━━━━━━━━\u001b[0m\u001b[37m\u001b[0m \u001b[1m8s\u001b[0m 3ms/step - accuracy: 0.8574 - loss: 0.3441 - val_accuracy: 0.8408 - val_loss: 0.3719 - learning_rate: 5.0000e-04\n",
            "Epoch 42/50\n",
            "\u001b[1m2906/2906\u001b[0m \u001b[32m━━━━━━━━━━━━━━━━━━━━\u001b[0m\u001b[37m\u001b[0m \u001b[1m13s\u001b[0m 4ms/step - accuracy: 0.8574 - loss: 0.3437 - val_accuracy: 0.8543 - val_loss: 0.3507 - learning_rate: 5.0000e-04\n",
            "Epoch 43/50\n",
            "\u001b[1m2906/2906\u001b[0m \u001b[32m━━━━━━━━━━━━━━━━━━━━\u001b[0m\u001b[37m\u001b[0m \u001b[1m20s\u001b[0m 3ms/step - accuracy: 0.8596 - loss: 0.3406 - val_accuracy: 0.8521 - val_loss: 0.3523 - learning_rate: 5.0000e-04\n",
            "Epoch 44/50\n",
            "\u001b[1m2906/2906\u001b[0m \u001b[32m━━━━━━━━━━━━━━━━━━━━\u001b[0m\u001b[37m\u001b[0m \u001b[1m8s\u001b[0m 3ms/step - accuracy: 0.8599 - loss: 0.3385 - val_accuracy: 0.8604 - val_loss: 0.3432 - learning_rate: 5.0000e-04\n",
            "Epoch 45/50\n",
            "\u001b[1m2906/2906\u001b[0m \u001b[32m━━━━━━━━━━━━━━━━━━━━\u001b[0m\u001b[37m\u001b[0m \u001b[1m10s\u001b[0m 3ms/step - accuracy: 0.8598 - loss: 0.3391 - val_accuracy: 0.8558 - val_loss: 0.3479 - learning_rate: 5.0000e-04\n",
            "Epoch 46/50\n",
            "\u001b[1m2906/2906\u001b[0m \u001b[32m━━━━━━━━━━━━━━━━━━━━\u001b[0m\u001b[37m\u001b[0m \u001b[1m11s\u001b[0m 3ms/step - accuracy: 0.8607 - loss: 0.3379 - val_accuracy: 0.8585 - val_loss: 0.3435 - learning_rate: 5.0000e-04\n",
            "Epoch 47/50\n",
            "\u001b[1m2906/2906\u001b[0m \u001b[32m━━━━━━━━━━━━━━━━━━━━\u001b[0m\u001b[37m\u001b[0m \u001b[1m10s\u001b[0m 3ms/step - accuracy: 0.8606 - loss: 0.3366 - val_accuracy: 0.8504 - val_loss: 0.3523 - learning_rate: 5.0000e-04\n",
            "Epoch 48/50\n",
            "\u001b[1m2906/2906\u001b[0m \u001b[32m━━━━━━━━━━━━━━━━━━━━\u001b[0m\u001b[37m\u001b[0m \u001b[1m9s\u001b[0m 3ms/step - accuracy: 0.8605 - loss: 0.3372 - val_accuracy: 0.8485 - val_loss: 0.3597 - learning_rate: 5.0000e-04\n",
            "Epoch 49/50\n",
            "\u001b[1m2906/2906\u001b[0m \u001b[32m━━━━━━━━━━━━━━━━━━━━\u001b[0m\u001b[37m\u001b[0m \u001b[1m9s\u001b[0m 3ms/step - accuracy: 0.8600 - loss: 0.3378 - val_accuracy: 0.8498 - val_loss: 0.3594 - learning_rate: 5.0000e-04\n",
            "Epoch 50/50\n",
            "\u001b[1m2906/2906\u001b[0m \u001b[32m━━━━━━━━━━━━━━━━━━━━\u001b[0m\u001b[37m\u001b[0m \u001b[1m10s\u001b[0m 3ms/step - accuracy: 0.8646 - loss: 0.3305 - val_accuracy: 0.8581 - val_loss: 0.3458 - learning_rate: 2.5000e-04\n"
          ]
        },
        {
          "output_type": "display_data",
          "data": {
            "text/plain": [
              "<Figure size 1400x500 with 0 Axes>"
            ]
          },
          "metadata": {}
        }
      ]
    },
    {
      "cell_type": "markdown",
      "source": [
        "# MODEL EVALUATION"
      ],
      "metadata": {
        "id": "vPLgDcB8sZso"
      }
    },
    {
      "cell_type": "markdown",
      "source": [
        "** Evaluating the final chosen MLP model using comprehensive metrics.**"
      ],
      "metadata": {
        "id": "r24n8xBVsbvO"
      }
    },
    {
      "cell_type": "code",
      "source": [
        "print(\"Evaluating Final MLP Model (with LR Scheduling)\")\n"
      ],
      "metadata": {
        "colab": {
          "base_uri": "https://localhost:8080/"
        },
        "id": "7Wqa62wIsmZl",
        "outputId": "7d2cd1e1-6e3b-46a2-a667-a9b5fdb54da0"
      },
      "execution_count": 24,
      "outputs": [
        {
          "output_type": "stream",
          "name": "stdout",
          "text": [
            "Evaluating Final MLP Model (with LR Scheduling)\n"
          ]
        }
      ]
    },
    {
      "cell_type": "markdown",
      "source": [
        "**Make predictions**"
      ],
      "metadata": {
        "id": "4K72oCd8s1ce"
      }
    },
    {
      "cell_type": "code",
      "source": [
        "mlp_preds = model_lr_schedule.predict(x_test_processed).argmax(axis=1)"
      ],
      "metadata": {
        "colab": {
          "base_uri": "https://localhost:8080/"
        },
        "id": "AsofxDxVtFFl",
        "outputId": "65f9ab49-7c6b-465d-cc80-746f2dd43afc"
      },
      "execution_count": 25,
      "outputs": [
        {
          "output_type": "stream",
          "name": "stdout",
          "text": [
            "\u001b[1m3632/3632\u001b[0m \u001b[32m━━━━━━━━━━━━━━━━━━━━\u001b[0m\u001b[37m\u001b[0m \u001b[1m4s\u001b[0m 1ms/step\n"
          ]
        }
      ]
    },
    {
      "cell_type": "code",
      "source": [
        "print(\"\\nMLP Classification Report:\")\n",
        "print(classification_report(y_test, mlp_preds))"
      ],
      "metadata": {
        "colab": {
          "base_uri": "https://localhost:8080/"
        },
        "id": "4AA70tH_tWLT",
        "outputId": "30a68c54-f89e-43c6-ec48-bf2d1b2a5c58"
      },
      "execution_count": 26,
      "outputs": [
        {
          "output_type": "stream",
          "name": "stdout",
          "text": [
            "\n",
            "MLP Classification Report:\n",
            "              precision    recall  f1-score   support\n",
            "\n",
            "           0       0.88      0.83      0.85     42368\n",
            "           1       0.86      0.90      0.88     56661\n",
            "           2       0.85      0.86      0.85      7151\n",
            "           3       0.74      0.83      0.78       549\n",
            "           4       0.69      0.59      0.64      1899\n",
            "           5       0.73      0.70      0.72      3473\n",
            "           6       0.89      0.88      0.88      4102\n",
            "\n",
            "    accuracy                           0.86    116203\n",
            "   macro avg       0.80      0.80      0.80    116203\n",
            "weighted avg       0.86      0.86      0.86    116203\n",
            "\n"
          ]
        }
      ]
    },
    {
      "cell_type": "markdown",
      "source": [
        "**Calculate Precision, Recall, F1-score (macro and weighted)**"
      ],
      "metadata": {
        "id": "I3uJe8ONtLtF"
      }
    },
    {
      "cell_type": "code",
      "source": [
        "precision_macro, recall_macro, f1_macro, _ = precision_recall_fscore_support(y_test, mlp_preds, average='macro')\n",
        "precision_weighted, recall_weighted, f1_weighted, _ = precision_recall_fscore_support(y_test, mlp_preds, average='weighted')\n",
        "\n",
        "print(f\"\\nMacro Precision: {precision_macro:.4f}\")\n",
        "print(f\"Macro Recall: {recall_macro:.4f}\")\n",
        "print(f\"Macro F1-score: {f1_macro:.4f}\")\n",
        "print(f\"\\nWeighted Precision: {precision_weighted:.4f}\")\n",
        "print(f\"Weighted Recall: {recall_weighted:.4f}\")\n",
        "print(f\"Weighted F1-score: {f1_weighted:.4f}\")"
      ],
      "metadata": {
        "colab": {
          "base_uri": "https://localhost:8080/"
        },
        "id": "oY27YF25tfgb",
        "outputId": "58543f85-160e-449e-edc2-60273f3935d8"
      },
      "execution_count": 27,
      "outputs": [
        {
          "output_type": "stream",
          "name": "stdout",
          "text": [
            "\n",
            "Macro Precision: 0.8046\n",
            "Macro Recall: 0.7993\n",
            "Macro F1-score: 0.8008\n",
            "\n",
            "Weighted Precision: 0.8603\n",
            "Weighted Recall: 0.8604\n",
            "Weighted F1-score: 0.8597\n"
          ]
        }
      ]
    },
    {
      "cell_type": "markdown",
      "source": [
        "**Confusion Matrix**"
      ],
      "metadata": {
        "id": "7laDcJyZtuPK"
      }
    },
    {
      "cell_type": "code",
      "source": [
        "sns.heatmap(confusion_matrix(y_test, mlp_preds), annot=True, fmt='d', cmap='Blues')\n",
        "plt.title(\"MLP Confusion Matrix\")\n",
        "plt.xlabel(\"Predicted Label\")\n",
        "plt.ylabel(\"True Label\")\n",
        "plt.show()"
      ],
      "metadata": {
        "colab": {
          "base_uri": "https://localhost:8080/",
          "height": 472
        },
        "id": "C33NqFaetwDw",
        "outputId": "1cb07106-7147-4b52-830c-de6a41cb5777"
      },
      "execution_count": 28,
      "outputs": [
        {
          "output_type": "display_data",
          "data": {
            "text/plain": [
              "<Figure size 640x480 with 2 Axes>"
            ],
            "image/png": "[encoded data removed]"
          },
          "metadata": {}
        }
      ]
    },
    {
      "cell_type": "markdown",
      "source": [
        "Visualized learning curves (already plotted during training)"
      ],
      "metadata": {
        "id": "r9P0KDlat_C-"
      }
    },
    {
      "cell_type": "markdown",
      "source": [
        "**Train and Evaluate Random Forest Classifier**"
      ],
      "metadata": {
        "id": "YsIALL93uBt3"
      }
    },
    {
      "cell_type": "code",
      "source": [
        "print(\"Training and Evaluating Random Forest Classifier\")\n",
        "rf = RandomForestClassifier(n_estimators=200, random_state=42, n_jobs=-1)"
      ],
      "metadata": {
        "colab": {
          "base_uri": "https://localhost:8080/"
        },
        "id": "lyKrqZ4FuLym",
        "outputId": "ebc3b65d-a594-4f79-eab5-818a184ab0c5"
      },
      "execution_count": 29,
      "outputs": [
        {
          "output_type": "stream",
          "name": "stdout",
          "text": [
            "Training and Evaluating Random Forest Classifier\n"
          ]
        }
      ]
    },
    {
      "cell_type": "markdown",
      "source": [
        "**Train on processed data**"
      ],
      "metadata": {
        "id": "B6OrY78zuW77"
      }
    },
    {
      "cell_type": "code",
      "source": [
        "rf.fit(x_train_processed, y_train)\n",
        "rf_preds = rf.predict(x_test_processed)"
      ],
      "metadata": {
        "id": "9xiVXgOXugRg"
      },
      "execution_count": 30,
      "outputs": []
    },
    {
      "cell_type": "code",
      "source": [
        "print(\"\\nRandom Forest Classification Report:\")\n",
        "print(classification_report(y_test, rf_preds))"
      ],
      "metadata": {
        "colab": {
          "base_uri": "https://localhost:8080/"
        },
        "id": "FZr75h7EuxLD",
        "outputId": "ebb2aad2-fd79-426c-aaa2-d7e87b9dbfbb"
      },
      "execution_count": 31,
      "outputs": [
        {
          "output_type": "stream",
          "name": "stdout",
          "text": [
            "\n",
            "Random Forest Classification Report:\n",
            "              precision    recall  f1-score   support\n",
            "\n",
            "           0       0.96      0.94      0.95     42368\n",
            "           1       0.94      0.97      0.96     56661\n",
            "           2       0.93      0.96      0.95      7151\n",
            "           3       0.92      0.84      0.88       549\n",
            "           4       0.95      0.76      0.84      1899\n",
            "           5       0.93      0.88      0.90      3473\n",
            "           6       0.97      0.94      0.96      4102\n",
            "\n",
            "    accuracy                           0.95    116203\n",
            "   macro avg       0.94      0.90      0.92    116203\n",
            "weighted avg       0.95      0.95      0.95    116203\n",
            "\n"
          ]
        }
      ]
    },
    {
      "cell_type": "markdown",
      "source": [
        "**Calculate Precision, Recall, F1-score**"
      ],
      "metadata": {
        "id": "QeQZ4kmmuyDL"
      }
    },
    {
      "cell_type": "code",
      "source": [
        "precision_macro_rf, recall_macro_rf, f1_macro_rf, _ = precision_recall_fscore_support(y_test, rf_preds, average='macro')\n",
        "precision_weighted_rf, recall_weighted_rf, f1_weighted_rf, _ = precision_recall_fscore_support(y_test, rf_preds, average='weighted')"
      ],
      "metadata": {
        "id": "xaz3sNM8u7-o"
      },
      "execution_count": 32,
      "outputs": []
    },
    {
      "cell_type": "code",
      "source": [
        "print(f\"\\nMacro Precision: {precision_macro_rf:.4f}\")\n",
        "print(f\"Macro Recall: {recall_macro_rf:.4f}\")\n",
        "print(f\"Macro F1-score: {f1_macro_rf:.4f}\")\n",
        "print(f\"\\nWeighted Precision: {precision_weighted_rf:.4f}\")\n",
        "print(f\"Weighted Recall: {recall_weighted_rf:.4f}\")\n",
        "print(f\"Weighted F1-score: {f1_weighted_rf:.4f}\")"
      ],
      "metadata": {
        "colab": {
          "base_uri": "https://localhost:8080/"
        },
        "id": "TMX5xUiQvPLd",
        "outputId": "8485e0f9-ae4e-42e9-d986-8043011aa076"
      },
      "execution_count": 33,
      "outputs": [
        {
          "output_type": "stream",
          "name": "stdout",
          "text": [
            "\n",
            "Macro Precision: 0.9440\n",
            "Macro Recall: 0.8983\n",
            "Macro F1-score: 0.9192\n",
            "\n",
            "Weighted Precision: 0.9499\n",
            "Weighted Recall: 0.9497\n",
            "Weighted F1-score: 0.9494\n"
          ]
        }
      ]
    },
    {
      "cell_type": "markdown",
      "source": [
        "**Confusion Matrix**"
      ],
      "metadata": {
        "id": "VwgfudGMvaeu"
      }
    },
    {
      "cell_type": "code",
      "source": [
        "sns.heatmap(confusion_matrix(y_test, rf_preds), annot=True, fmt='d', cmap='Blues')\n",
        "plt.title(\"Random Forest Confusion Matrix\")\n",
        "plt.xlabel(\"Predicted Label\")\n",
        "plt.ylabel(\"True Label\")\n",
        "plt.show()"
      ],
      "metadata": {
        "colab": {
          "base_uri": "https://localhost:8080/",
          "height": 472
        },
        "id": "Qb4ZiOznvcb3",
        "outputId": "94d342dc-c4dc-472e-e234-b4babdc161da"
      },
      "execution_count": 34,
      "outputs": [
        {
          "output_type": "display_data",
          "data": {
            "text/plain": [
              "<Figure size 640x480 with 2 Axes>"
            ],
            "image/png": "[encoded data removed]"
          },
          "metadata": {}
        }
      ]
    },
    {
      "cell_type": "markdown",
      "source": [
        "# Reflection based on the current Experiments."
      ],
      "metadata": {
        "id": "rDQGWi6PGq_n"
      }
    },
    {
      "cell_type": "markdown",
      "source": [
        "Tree-based ensemble methods like Random Forest often outperform MLPs on structured/tabular datasets because they naturally handle feature interactions and do not require intensive normalization. They are robust to outliers and can manage categorical and numerical features effectively. MLPs, while powerful, typically demand more careful tuning and benefit less from the structure of tabular data compared to trees."
      ],
      "metadata": {
        "id": "h8iJysRaG1xQ"
      }
    }
  ]
}